{
 "cells": [
  {
   "cell_type": "code",
   "execution_count": null,
   "id": "2cc1b1a5-1157-452f-933a-a10aded5cf2b",
   "metadata": {},
   "outputs": [],
   "source": [
    "import os\n",
    "import dotenv\n",
    "import pandas as pd\n",
    "import googletrans\n",
    "from stop_words import get_stop_words"
   ]
  },
  {
   "cell_type": "code",
   "execution_count": null,
   "id": "f6765216-edce-4f38-b2a4-8475039f81bb",
   "metadata": {},
   "outputs": [],
   "source": [
    "# Load environment variables\n",
    "project_dir = os.path.join(os.path.abspath(''), os.pardir)\n",
    "dotenv_path = os.path.join(project_dir, '.env')\n",
    "\n",
    "dotenv.load_dotenv(dotenv_path)"
   ]
  },
  {
   "cell_type": "code",
   "execution_count": null,
   "id": "6f12aa4e-1952-4a6c-953b-2a797cae8052",
   "metadata": {},
   "outputs": [],
   "source": [
    "# load dataset to translate texts\n",
    "df = pd.read_csv(os.path.join(os.getenv('SAVE_INTERIM_FILES_PATH'), 'agg_posts_weighted.csv'))"
   ]
  },
  {
   "cell_type": "code",
   "execution_count": null,
   "id": "dd3665f2-fa23-457a-af9e-89cea7a8af00",
   "metadata": {},
   "outputs": [],
   "source": [
    "# translate to english only non-english texts\n",
    "import time\n",
    "translator = googletrans.Translator()\n",
    "def translate_(x):\n",
    "  time.sleep(1)\n",
    "  if translator.detect(x).lang != 'en':\n",
    "    translated = translator.translate(x, dest='en').text\n",
    "    return translated\n",
    "\n",
    "df['translated_text'] = df['Message Text'].apply(translate_)"
   ]
  },
  {
   "cell_type": "code",
   "execution_count": null,
   "id": "f1ef309f-1ba1-4e98-b988-e03fee18550a",
   "metadata": {},
   "outputs": [],
   "source": [
    "# combine already translated texts with origin english texts\n",
    "df['translated_text'] = df['translated_text'].combine_first(df['Message Text'])"
   ]
  },
  {
   "cell_type": "code",
   "execution_count": null,
   "id": "2ce062aa-54fd-4593-8470-66188b8c0091",
   "metadata": {},
   "outputs": [],
   "source": [
    "# get all text to lower case\n",
    "df['text'] = df.translated_text.str.lower()"
   ]
  },
  {
   "cell_type": "code",
   "execution_count": null,
   "id": "df3d2982-7b9f-4bf1-9c37-6f62a65f357d",
   "metadata": {},
   "outputs": [],
   "source": [
    "# save translated texts for further analysis\n",
    "df.to_csv(os.path.join(os.getenv('SAVE_INTERIM_FILES_PATH'), 'agg_posts_text_translated.csv'), index=False, encoding='UTF-8')"
   ]
  }
 ],
 "metadata": {
  "kernelspec": {
   "display_name": "Python 3 (ipykernel)",
   "language": "python",
   "name": "python3"
  },
  "language_info": {
   "codemirror_mode": {
    "name": "ipython",
    "version": 3
   },
   "file_extension": ".py",
   "mimetype": "text/x-python",
   "name": "python",
   "nbconvert_exporter": "python",
   "pygments_lexer": "ipython3",
   "version": "3.11.4"
  }
 },
 "nbformat": 4,
 "nbformat_minor": 5
}
