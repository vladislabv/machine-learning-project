{
 "cells": [
  {
   "cell_type": "code",
   "execution_count": 15,
   "id": "1504584d-1595-4596-bfe6-3caca3f90c48",
   "metadata": {},
   "outputs": [],
   "source": [
    "import os\n",
    "import re\n",
    "import dotenv\n",
    "import numpy as np\n",
    "import pandas as pd\n",
    "from pprint import pprint\n",
    "\n",
    "import catboost as cb\n",
    "\n",
    "import matplotlib.pyplot as plt\n",
    "\n",
    "from sklearn.metrics import r2_score\n",
    "from sklearn.metrics import make_scorer\n",
    "from sklearn.model_selection import GridSearchCV\n",
    "from sklearn.model_selection import train_test_split\n",
    "\n",
    "%matplotlib inline"
   ]
  },
  {
   "cell_type": "code",
   "execution_count": 3,
   "id": "46c5f709-9689-432e-8d43-07d57b5c1af9",
   "metadata": {},
   "outputs": [
    {
     "data": {
      "text/plain": [
       "True"
      ]
     },
     "execution_count": 3,
     "metadata": {},
     "output_type": "execute_result"
    }
   ],
   "source": [
    "# Load environment variables\n",
    "project_dir = os.path.join(os.path.abspath(''), os.pardir)\n",
    "dotenv_path = os.path.join(project_dir, '.env')\n",
    "\n",
    "dotenv.load_dotenv(dotenv_path)"
   ]
  },
  {
   "cell_type": "code",
   "execution_count": 37,
   "id": "7055d3a5-28e0-487c-bd24-19067ac43a44",
   "metadata": {},
   "outputs": [],
   "source": [
    "df = pd.read_csv(os.path.join(os.getenv('PROCESSED_DATA_FILES'), 'df_train_test.csv'), encoding='UTF-8')"
   ]
  },
  {
   "cell_type": "code",
   "execution_count": 39,
   "id": "c9b840dd-76e9-4af3-a3a3-38e92a4150a4",
   "metadata": {},
   "outputs": [
    {
     "data": {
      "text/plain": [
       "post_id\n",
       "0958b102f46bf30d0fd0b066164da0b7b7bed762c4d7b75d9a5218d9be7c9307    [partner, let, factory, read, customer, offer,...\n",
       "0e16a8e384fe24d1b936336efd87a978fd36ef241205a1268b162e1a8a7f5ed0    [system, risk, product, use, production, range...\n",
       "149644004573512a361a5d89ab8c9003080a3af20fca36410b3c8b31a55fff89    [technology, learn, great, offer, new, future,...\n",
       "27df549b4d17af132fb603068a3cb64376aa9824193b8ffac1fe98359c17f655    [technology, learn, great, new, future, part, ...\n",
       "2a0d916a2d052d0d7adc424c8cb6c2c8f8e6e5da04f546d847f64f45c8dd4132    [learn, great, new, future, part, health, see,...\n",
       "                                                                                          ...                        \n",
       "urn:li:ugcPost:7089536249719365633                                  [read, year, customer, work, make, colleague, ...\n",
       "urn:li:ugcPost:7089542606212190208                                  [system, risk, product, use, production, range...\n",
       "urn:li:ugcPost:7089556581268254720                                  [year, work, make, colleague, people, employee...\n",
       "urn:li:ugcPost:7089567563214409728                                  [year, work, make, colleague, people, employee...\n",
       "urn:li:ugcPost:7089582452704165888                                  [year, work, make, colleague, people, employee...\n",
       "Name: Keywords, Length: 4356, dtype: object"
      ]
     },
     "execution_count": 39,
     "metadata": {},
     "output_type": "execute_result"
    }
   ],
   "source": [
    "X['Keywords']"
   ]
  },
  {
   "cell_type": "code",
   "execution_count": 43,
   "id": "0094a46f-a966-4a8e-ac5c-5c0ece33762b",
   "metadata": {},
   "outputs": [
    {
     "name": "stdout",
     "output_type": "stream",
     "text": [
      "                                                    log_init_imps  \\\n",
      "post_id                                                             \n",
      "0958b102f46bf30d0fd0b066164da0b7b7bed762c4d7b75...       8.836810   \n",
      "0e16a8e384fe24d1b936336efd87a978fd36ef241205a12...      10.852304   \n",
      "149644004573512a361a5d89ab8c9003080a3af20fca364...       9.495219   \n",
      "27df549b4d17af132fb603068a3cb64376aa9824193b8ff...       8.348538   \n",
      "2a0d916a2d052d0d7adc424c8cb6c2c8f8e6e5da04f546d...       7.942007   \n",
      "\n",
      "                                                    log_init_engs  \\\n",
      "post_id                                                             \n",
      "0958b102f46bf30d0fd0b066164da0b7b7bed762c4d7b75...       5.420535   \n",
      "0e16a8e384fe24d1b936336efd87a978fd36ef241205a12...       8.478660   \n",
      "149644004573512a361a5d89ab8c9003080a3af20fca364...       5.988961   \n",
      "27df549b4d17af132fb603068a3cb64376aa9824193b8ff...       6.570883   \n",
      "2a0d916a2d052d0d7adc424c8cb6c2c8f8e6e5da04f546d...       4.077537   \n",
      "\n",
      "                                                    Dominant_Topic  \\\n",
      "post_id                                                              \n",
      "0958b102f46bf30d0fd0b066164da0b7b7bed762c4d7b75...               8   \n",
      "0e16a8e384fe24d1b936336efd87a978fd36ef241205a12...               1   \n",
      "149644004573512a361a5d89ab8c9003080a3af20fca364...              10   \n",
      "27df549b4d17af132fb603068a3cb64376aa9824193b8ff...              10   \n",
      "2a0d916a2d052d0d7adc424c8cb6c2c8f8e6e5da04f546d...              10   \n",
      "\n",
      "                                                                                             Keywords  \n",
      "post_id                                                                                                \n",
      "0958b102f46bf30d0fd0b066164da0b7b7bed762c4d7b75...  partner,let,factory,read,customer,offer,topic,...  \n",
      "0e16a8e384fe24d1b936336efd87a978fd36ef241205a12...  system,risk,product,use,production,range,high,...  \n",
      "149644004573512a361a5d89ab8c9003080a3af20fca364...  technology,learn,great,offer,new,future,part,h...  \n",
      "27df549b4d17af132fb603068a3cb64376aa9824193b8ff...  technology,learn,great,new,future,part,health,...  \n",
      "2a0d916a2d052d0d7adc424c8cb6c2c8f8e6e5da04f546d...  learn,great,new,future,part,health,see,find,pr...  \n",
      "post_id\n",
      "0958b102f46bf30d0fd0b066164da0b7b7bed762c4d7b75d9a5218d9be7c9307    0.613404\n",
      "0e16a8e384fe24d1b936336efd87a978fd36ef241205a1268b162e1a8a7f5ed0    0.781277\n",
      "149644004573512a361a5d89ab8c9003080a3af20fca36410b3c8b31a55fff89    0.630734\n",
      "27df549b4d17af132fb603068a3cb64376aa9824193b8ffac1fe98359c17f655    0.787070\n",
      "2a0d916a2d052d0d7adc424c8cb6c2c8f8e6e5da04f546d847f64f45c8dd4132    0.513414\n",
      "Name: log_all_engrate, dtype: float64\n"
     ]
    }
   ],
   "source": [
    "X = df.loc[:, [\"post_id\", \"log_init_imps\", \"log_init_engs\", \"Dominant_Topic\", \"Keywords\"]]\n",
    "X = X.set_index('post_id')\n",
    "X['Keywords'] = X['Keywords'].apply(lambda x: x[1:] if x.startswith(',') else x)#.str.split(',')\n",
    "X['Dominant_Topic'] = X['Dominant_Topic'].astype(int) \n",
    "\n",
    "cat_features = ['Keywords', 'Dominant_Topic']\n",
    "\n",
    "y = df.loc[:, [\"post_id\", \"log_all_engrate\"]]\n",
    "y = y.set_index('post_id')\n",
    "y = y.squeeze()\n",
    "print(X.head())\n",
    "print(y.head())"
   ]
  },
  {
   "cell_type": "code",
   "execution_count": 44,
   "id": "c9e95941-b779-4635-b4a1-d9b5c3049772",
   "metadata": {},
   "outputs": [],
   "source": [
    "X_train, X_test, y_train, y_test = train_test_split(X, y, test_size=0.2, random_state=42, stratify=df.class_weight.values.tolist())"
   ]
  },
  {
   "cell_type": "code",
   "execution_count": 45,
   "id": "685164cb-2357-4b33-85ec-7b39b8778eb6",
   "metadata": {},
   "outputs": [
    {
     "data": {
      "text/html": [
       "<div>\n",
       "<style scoped>\n",
       "    .dataframe tbody tr th:only-of-type {\n",
       "        vertical-align: middle;\n",
       "    }\n",
       "\n",
       "    .dataframe tbody tr th {\n",
       "        vertical-align: top;\n",
       "    }\n",
       "\n",
       "    .dataframe thead th {\n",
       "        text-align: right;\n",
       "    }\n",
       "</style>\n",
       "<table border=\"1\" class=\"dataframe\">\n",
       "  <thead>\n",
       "    <tr style=\"text-align: right;\">\n",
       "      <th></th>\n",
       "      <th>log_init_imps</th>\n",
       "      <th>log_init_engs</th>\n",
       "      <th>Dominant_Topic</th>\n",
       "      <th>Keywords</th>\n",
       "    </tr>\n",
       "    <tr>\n",
       "      <th>post_id</th>\n",
       "      <th></th>\n",
       "      <th></th>\n",
       "      <th></th>\n",
       "      <th></th>\n",
       "    </tr>\n",
       "  </thead>\n",
       "  <tbody>\n",
       "    <tr>\n",
       "      <th>urn:li:share:7031250249000054784</th>\n",
       "      <td>9.696525</td>\n",
       "      <td>6.968850</td>\n",
       "      <td>11</td>\n",
       "      <td>year,work,make,colleague,people,employee,suppo...</td>\n",
       "    </tr>\n",
       "    <tr>\n",
       "      <th>urn:li:ugcPost:7019289018538364928</th>\n",
       "      <td>7.242798</td>\n",
       "      <td>4.143135</td>\n",
       "      <td>10</td>\n",
       "      <td>learn,great,new,future,part,health,see,find,pr...</td>\n",
       "    </tr>\n",
       "    <tr>\n",
       "      <th>urn:li:share:7074383506939744256</th>\n",
       "      <td>6.538140</td>\n",
       "      <td>4.897840</td>\n",
       "      <td>10</td>\n",
       "      <td>learn,great,new,future,part,health,see,find,pr...</td>\n",
       "    </tr>\n",
       "    <tr>\n",
       "      <th>urn:li:share:7021012573416284160</th>\n",
       "      <td>7.646354</td>\n",
       "      <td>4.718499</td>\n",
       "      <td>10</td>\n",
       "      <td>learn,great,new,future,part,health,see,find,pr...</td>\n",
       "    </tr>\n",
       "    <tr>\n",
       "      <th>urn:li:share:7072133388433805312</th>\n",
       "      <td>7.531552</td>\n",
       "      <td>4.369448</td>\n",
       "      <td>10</td>\n",
       "      <td>learn,great,new,future,part,health,see,find,pr...</td>\n",
       "    </tr>\n",
       "    <tr>\n",
       "      <th>...</th>\n",
       "      <td>...</td>\n",
       "      <td>...</td>\n",
       "      <td>...</td>\n",
       "      <td>...</td>\n",
       "    </tr>\n",
       "    <tr>\n",
       "      <th>urn:li:share:7004746064947748864</th>\n",
       "      <td>1.098612</td>\n",
       "      <td>0.000000</td>\n",
       "      <td>11</td>\n",
       "      <td>year,customer,work,offer,make,colleague,people...</td>\n",
       "    </tr>\n",
       "    <tr>\n",
       "      <th>urn:li:share:7072120042301075456</th>\n",
       "      <td>4.094345</td>\n",
       "      <td>1.098612</td>\n",
       "      <td>1</td>\n",
       "      <td>system,risk,product,use,production,range,offer...</td>\n",
       "    </tr>\n",
       "    <tr>\n",
       "      <th>urn:li:ugcPost:7079443345554464768</th>\n",
       "      <td>7.495542</td>\n",
       "      <td>4.787492</td>\n",
       "      <td>10</td>\n",
       "      <td>learn,great,new,future,part,health,see,find,pr...</td>\n",
       "    </tr>\n",
       "    <tr>\n",
       "      <th>urn:li:ugcPost:7081572932186992640</th>\n",
       "      <td>7.046647</td>\n",
       "      <td>5.730100</td>\n",
       "      <td>11</td>\n",
       "      <td>year,work,make,colleague,people,employee,suppo...</td>\n",
       "    </tr>\n",
       "    <tr>\n",
       "      <th>urn:li:share:7005923952942329856</th>\n",
       "      <td>2.079442</td>\n",
       "      <td>0.000100</td>\n",
       "      <td>10</td>\n",
       "      <td>read,learn,great,new,future,part,health,see,fi...</td>\n",
       "    </tr>\n",
       "  </tbody>\n",
       "</table>\n",
       "<p>3484 rows × 4 columns</p>\n",
       "</div>"
      ],
      "text/plain": [
       "                                    log_init_imps  log_init_engs  \\\n",
       "post_id                                                            \n",
       "urn:li:share:7031250249000054784         9.696525       6.968850   \n",
       "urn:li:ugcPost:7019289018538364928       7.242798       4.143135   \n",
       "urn:li:share:7074383506939744256         6.538140       4.897840   \n",
       "urn:li:share:7021012573416284160         7.646354       4.718499   \n",
       "urn:li:share:7072133388433805312         7.531552       4.369448   \n",
       "...                                           ...            ...   \n",
       "urn:li:share:7004746064947748864         1.098612       0.000000   \n",
       "urn:li:share:7072120042301075456         4.094345       1.098612   \n",
       "urn:li:ugcPost:7079443345554464768       7.495542       4.787492   \n",
       "urn:li:ugcPost:7081572932186992640       7.046647       5.730100   \n",
       "urn:li:share:7005923952942329856         2.079442       0.000100   \n",
       "\n",
       "                                    Dominant_Topic  \\\n",
       "post_id                                              \n",
       "urn:li:share:7031250249000054784                11   \n",
       "urn:li:ugcPost:7019289018538364928              10   \n",
       "urn:li:share:7074383506939744256                10   \n",
       "urn:li:share:7021012573416284160                10   \n",
       "urn:li:share:7072133388433805312                10   \n",
       "...                                            ...   \n",
       "urn:li:share:7004746064947748864                11   \n",
       "urn:li:share:7072120042301075456                 1   \n",
       "urn:li:ugcPost:7079443345554464768              10   \n",
       "urn:li:ugcPost:7081572932186992640              11   \n",
       "urn:li:share:7005923952942329856                10   \n",
       "\n",
       "                                                                             Keywords  \n",
       "post_id                                                                                \n",
       "urn:li:share:7031250249000054784    year,work,make,colleague,people,employee,suppo...  \n",
       "urn:li:ugcPost:7019289018538364928  learn,great,new,future,part,health,see,find,pr...  \n",
       "urn:li:share:7074383506939744256    learn,great,new,future,part,health,see,find,pr...  \n",
       "urn:li:share:7021012573416284160    learn,great,new,future,part,health,see,find,pr...  \n",
       "urn:li:share:7072133388433805312    learn,great,new,future,part,health,see,find,pr...  \n",
       "...                                                                               ...  \n",
       "urn:li:share:7004746064947748864    year,customer,work,offer,make,colleague,people...  \n",
       "urn:li:share:7072120042301075456    system,risk,product,use,production,range,offer...  \n",
       "urn:li:ugcPost:7079443345554464768  learn,great,new,future,part,health,see,find,pr...  \n",
       "urn:li:ugcPost:7081572932186992640  year,work,make,colleague,people,employee,suppo...  \n",
       "urn:li:share:7005923952942329856    read,learn,great,new,future,part,health,see,fi...  \n",
       "\n",
       "[3484 rows x 4 columns]"
      ]
     },
     "execution_count": 45,
     "metadata": {},
     "output_type": "execute_result"
    }
   ],
   "source": [
    "X_train"
   ]
  },
  {
   "cell_type": "code",
   "execution_count": 46,
   "id": "8188330d-9c5f-43f1-9af0-99b7365ac0be",
   "metadata": {},
   "outputs": [],
   "source": [
    "catboost_model = cb.CatBoostRegressor(\n",
    "    loss_function='RMSE',\n",
    "    logging_level='Silent'\n",
    ")\n",
    "\n",
    "grid = {\n",
    "    'iterations': [50, 100, 150],\n",
    "    'learning_rate': [0.03, 0.07, 0.1, 0.15, 0.2],\n",
    "    'depth': [2, 4, 6, 8]\n",
    "}\n",
    "\n",
    "# Define the scoring metric for the grid search\n",
    "scorer = make_scorer(r2_score)\n",
    "\n",
    "grid_search = GridSearchCV(\n",
    "    catboost_model,\n",
    "    grid,\n",
    "    scoring=scorer,\n",
    "    cv = 10\n",
    ")\n",
    "\n",
    "# Perform the grid search\n",
    "grid_search.fit(X_train, y_train, cat_features=cat_features)\n",
    "\n",
    "# Get the best model and its hyperparameters\n",
    "best_model = grid_search.best_estimator_\n",
    "best_params = grid_search.best_params_"
   ]
  },
  {
   "cell_type": "code",
   "execution_count": 53,
   "id": "82a20b07-ccf2-49f5-9154-963435c39a38",
   "metadata": {},
   "outputs": [
    {
     "data": {
      "text/plain": [
       "{'depth': 8, 'iterations': 150, 'learning_rate': 0.07}"
      ]
     },
     "execution_count": 53,
     "metadata": {},
     "output_type": "execute_result"
    }
   ],
   "source": [
    "best_params"
   ]
  },
  {
   "cell_type": "code",
   "execution_count": 47,
   "id": "0556f5f4-90a7-4765-a129-052199be700f",
   "metadata": {},
   "outputs": [
    {
     "data": {
      "image/png": "[encoded data removed]",
      "text/plain": [
       "<Figure size 640x480 with 1 Axes>"
      ]
     },
     "metadata": {},
     "output_type": "display_data"
    }
   ],
   "source": [
    "# Visualize Feature Importance\n",
    "import matplotlib.pyplot as plt\n",
    "\n",
    "feature_importance = best_model.get_feature_importance(type=catboost.EFstrType.FeatureImportance)\n",
    "feature_names = X_train.columns\n",
    "\n",
    "# Create a sorted index based on feature importance\n",
    "sorted_idx = feature_importance.argsort()\n",
    "\n",
    "# Plot feature importance\n",
    "plt.barh(feature_names[sorted_idx], feature_importance[sorted_idx])\n",
    "plt.xlabel('Feature Importance')\n",
    "plt.show()"
   ]
  },
  {
   "cell_type": "code",
   "execution_count": 55,
   "id": "72a52786-9994-4438-9734-812f29b5fc69",
   "metadata": {},
   "outputs": [
    {
     "name": "stdout",
     "output_type": "stream",
     "text": [
      "R-squared Score (Train): 0.80\n",
      "R-squared Score (Test): 0.80\n"
     ]
    },
    {
     "data": {
      "image/png": "[encoded data removed]",
      "text/plain": [
       "<Figure size 640x480 with 1 Axes>"
      ]
     },
     "metadata": {},
     "output_type": "display_data"
    }
   ],
   "source": [
    "y_pred = best_model.predict(X_test)\n",
    "y_train_pred = best_model.predict(X_train)\n",
    "r_squared = r2_score(y_test, y_pred)\n",
    "r_squared_train = r2_score(y_train, y_train_pred)\n",
    "print(f\"R-squared Score (Train): {r_squared:.2f}\")\n",
    "print(f\"R-squared Score (Test): {r_squared:.2f}\")\n",
    "import matplotlib.pyplot as plt\n",
    "\n",
    "plt.scatter(y_test, y_pred)\n",
    "plt.xlabel('True Values')\n",
    "plt.ylabel('Predictions')\n",
    "plt.show()"
   ]
  },
  {
   "cell_type": "code",
   "execution_count": 52,
   "id": "67af498e-5966-41a8-bc25-7905b85e0536",
   "metadata": {},
   "outputs": [
    {
     "name": "stdout",
     "output_type": "stream",
     "text": [
      "Train (normal) R-squared Score: 0.84\n",
      "Test (normal) R-squared Score: 0.84\n"
     ]
    }
   ],
   "source": [
    "# scale the predictions back to normal and recalculate R Score\n",
    "# scale back true values (y)\n",
    "y_train_normal = np.exp(y_train)\n",
    "y_test_normal = np.exp(y_test)\n",
    "\n",
    "# get train/test predictions\n",
    "y_train_pred = best_model.predict(X_train)\n",
    "y_test_pred = best_model.predict(X_test)\n",
    "\n",
    "# scale back predictions\n",
    "y_train_pred_normal = np.exp(y_train_pred)\n",
    "y_test_pred_normal = np.exp(y_test_pred)\n",
    "\n",
    "# Assuming 'y_true' contains the true target values and 'y_pred' contains the predicted values\n",
    "r_squared_train = r2_score(y_train_normal, y_train_pred_normal)\n",
    "r_squared_test = r2_score(y_test_normal, y_test_pred_normal)\n",
    "\n",
    "print(f\"Train (normal) R-squared Score: {r_squared_train:.2f}\")\n",
    "print(f\"Test (normal) R-squared Score: {r_squared_test:.2f}\")"
   ]
  }
 ],
 "metadata": {
  "kernelspec": {
   "display_name": "Python 3 (ipykernel)",
   "language": "python",
   "name": "python3"
  },
  "language_info": {
   "codemirror_mode": {
    "name": "ipython",
    "version": 3
   },
   "file_extension": ".py",
   "mimetype": "text/x-python",
   "name": "python",
   "nbconvert_exporter": "python",
   "pygments_lexer": "ipython3",
   "version": "3.11.4"
  }
 },
 "nbformat": 4,
 "nbformat_minor": 5
}
