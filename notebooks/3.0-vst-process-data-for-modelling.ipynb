{
 "cells": [
  {
   "cell_type": "code",
   "execution_count": 105,
   "id": "238c2bba-2bee-461d-ac69-6761e6b00297",
   "metadata": {},
   "outputs": [],
   "source": [
    "import os\n",
    "import re\n",
    "import dotenv\n",
    "import numpy as np\n",
    "from numpy import inf\n",
    "import pandas as pd\n",
    "from pprint import pprint"
   ]
  },
  {
   "cell_type": "code",
   "execution_count": 133,
   "id": "7d577d69-99b1-4f45-86d7-87de4ebadd50",
   "metadata": {},
   "outputs": [
    {
     "data": {
      "text/plain": [
       "True"
      ]
     },
     "execution_count": 133,
     "metadata": {},
     "output_type": "execute_result"
    }
   ],
   "source": [
    "# Load environment variables\n",
    "project_dir = os.path.join(os.path.abspath(''), os.pardir)\n",
    "dotenv_path = os.path.join(project_dir, '.env')\n",
    "\n",
    "dotenv.load_dotenv(dotenv_path)"
   ]
  },
  {
   "cell_type": "code",
   "execution_count": 90,
   "id": "4627daef-fd56-4dca-9e6d-6524430517a8",
   "metadata": {},
   "outputs": [],
   "source": [
    "df = pd.read_csv(os.path.join(os.getenv('SAVE_INTERIM_FILES_PATH'), 'daily_measures_weighted.csv'), encoding='UTF-8')\n",
    "df_agg = pd.read_csv(os.path.join(os.getenv('SAVE_INTERIM_FILES_PATH'), 'agg_posts_lda_merged_results_with_keywords.csv'), encoding='UTF-8')"
   ]
  },
  {
   "cell_type": "code",
   "execution_count": 91,
   "id": "6e2ccdcd-b4cf-4af0-975f-267620b158f7",
   "metadata": {},
   "outputs": [],
   "source": [
    "df_init_obs = df.groupby('post_id').first().reset_index().rename(columns = {\n",
    "    'Impressions': 'init_imps',\n",
    "    'Engagements': 'init_engs'}).loc[:, [\"post_id\", \"init_imps\", \"init_engs\"]]"
   ]
  },
  {
   "cell_type": "code",
   "execution_count": 92,
   "id": "c4e10471-85d0-4fcb-9428-97f7cb0f5cbe",
   "metadata": {},
   "outputs": [
    {
     "name": "stderr",
     "output_type": "stream",
     "text": [
      "A:\\git_projects\\machine-learning-project\\venv\\Lib\\site-packages\\pandas\\core\\arraylike.py:396: RuntimeWarning: divide by zero encountered in log\n"
     ]
    }
   ],
   "source": [
    "df_init_obs[\"log_init_imps\"] = np.log(df_init_obs[\"init_imps\"])\n",
    "df_init_obs[\"log_init_engs\"] = np.log(df_init_obs[\"init_engs\"])\n",
    "df_init_obs.loc[df_init_obs[\"log_init_engs\"] == -inf, \"log_init_engs\"] = 0.0001"
   ]
  },
  {
   "cell_type": "code",
   "execution_count": 94,
   "id": "4e597b2c-8e90-4229-87fa-aa07abed48ff",
   "metadata": {},
   "outputs": [
    {
     "data": {
      "text/html": [
       "<div>\n",
       "<style scoped>\n",
       "    .dataframe tbody tr th:only-of-type {\n",
       "        vertical-align: middle;\n",
       "    }\n",
       "\n",
       "    .dataframe tbody tr th {\n",
       "        vertical-align: top;\n",
       "    }\n",
       "\n",
       "    .dataframe thead th {\n",
       "        text-align: right;\n",
       "    }\n",
       "</style>\n",
       "<table border=\"1\" class=\"dataframe\">\n",
       "  <thead>\n",
       "    <tr style=\"text-align: right;\">\n",
       "      <th></th>\n",
       "      <th>post_id</th>\n",
       "      <th>init_imps</th>\n",
       "      <th>init_engs</th>\n",
       "      <th>log_init_imps</th>\n",
       "      <th>log_init_engs</th>\n",
       "      <th>log_all_imps</th>\n",
       "      <th>log_all_engs</th>\n",
       "      <th>class_weight</th>\n",
       "      <th>Dominant_Topic</th>\n",
       "      <th>Keywords</th>\n",
       "      <th>log_all_engrate</th>\n",
       "    </tr>\n",
       "  </thead>\n",
       "  <tbody>\n",
       "    <tr>\n",
       "      <th>0</th>\n",
       "      <td>0958b102f46bf30d0fd0b066164da0b7b7bed762c4d7b7...</td>\n",
       "      <td>6883.0</td>\n",
       "      <td>226.0</td>\n",
       "      <td>8.836810</td>\n",
       "      <td>5.420535</td>\n",
       "      <td>8.836810</td>\n",
       "      <td>5.420535</td>\n",
       "      <td>0.001724</td>\n",
       "      <td>8</td>\n",
       "      <td>partner,let,factory,read,customer,offer,topic,...</td>\n",
       "      <td>0.613404</td>\n",
       "    </tr>\n",
       "    <tr>\n",
       "      <th>1</th>\n",
       "      <td>0e16a8e384fe24d1b936336efd87a978fd36ef241205a1...</td>\n",
       "      <td>51653.0</td>\n",
       "      <td>4811.0</td>\n",
       "      <td>10.852304</td>\n",
       "      <td>8.478660</td>\n",
       "      <td>10.852304</td>\n",
       "      <td>8.478660</td>\n",
       "      <td>0.001724</td>\n",
       "      <td>1</td>\n",
       "      <td>system,risk,product,use,production,range,high,...</td>\n",
       "      <td>0.781277</td>\n",
       "    </tr>\n",
       "    <tr>\n",
       "      <th>2</th>\n",
       "      <td>149644004573512a361a5d89ab8c9003080a3af20fca36...</td>\n",
       "      <td>13296.0</td>\n",
       "      <td>399.0</td>\n",
       "      <td>9.495219</td>\n",
       "      <td>5.988961</td>\n",
       "      <td>9.495219</td>\n",
       "      <td>5.988961</td>\n",
       "      <td>0.001724</td>\n",
       "      <td>10</td>\n",
       "      <td>technology,learn,great,offer,new,future,part,h...</td>\n",
       "      <td>0.630734</td>\n",
       "    </tr>\n",
       "    <tr>\n",
       "      <th>3</th>\n",
       "      <td>27df549b4d17af132fb603068a3cb64376aa9824193b8f...</td>\n",
       "      <td>4224.0</td>\n",
       "      <td>714.0</td>\n",
       "      <td>8.348538</td>\n",
       "      <td>6.570883</td>\n",
       "      <td>8.348538</td>\n",
       "      <td>6.570883</td>\n",
       "      <td>0.011423</td>\n",
       "      <td>10</td>\n",
       "      <td>technology,learn,great,new,future,part,health,...</td>\n",
       "      <td>0.787070</td>\n",
       "    </tr>\n",
       "    <tr>\n",
       "      <th>4</th>\n",
       "      <td>2a0d916a2d052d0d7adc424c8cb6c2c8f8e6e5da04f546...</td>\n",
       "      <td>2813.0</td>\n",
       "      <td>59.0</td>\n",
       "      <td>7.942007</td>\n",
       "      <td>4.077537</td>\n",
       "      <td>7.942007</td>\n",
       "      <td>4.077537</td>\n",
       "      <td>0.001724</td>\n",
       "      <td>10</td>\n",
       "      <td>learn,great,new,future,part,health,see,find,pr...</td>\n",
       "      <td>0.513414</td>\n",
       "    </tr>\n",
       "  </tbody>\n",
       "</table>\n",
       "</div>"
      ],
      "text/plain": [
       "                                             post_id  init_imps  init_engs  \\\n",
       "0  0958b102f46bf30d0fd0b066164da0b7b7bed762c4d7b7...     6883.0      226.0   \n",
       "1  0e16a8e384fe24d1b936336efd87a978fd36ef241205a1...    51653.0     4811.0   \n",
       "2  149644004573512a361a5d89ab8c9003080a3af20fca36...    13296.0      399.0   \n",
       "3  27df549b4d17af132fb603068a3cb64376aa9824193b8f...     4224.0      714.0   \n",
       "4  2a0d916a2d052d0d7adc424c8cb6c2c8f8e6e5da04f546...     2813.0       59.0   \n",
       "\n",
       "   log_init_imps  log_init_engs  log_all_imps  log_all_engs  class_weight  \\\n",
       "0       8.836810       5.420535      8.836810      5.420535      0.001724   \n",
       "1      10.852304       8.478660     10.852304      8.478660      0.001724   \n",
       "2       9.495219       5.988961      9.495219      5.988961      0.001724   \n",
       "3       8.348538       6.570883      8.348538      6.570883      0.011423   \n",
       "4       7.942007       4.077537      7.942007      4.077537      0.001724   \n",
       "\n",
       "   Dominant_Topic                                           Keywords  \\\n",
       "0               8  partner,let,factory,read,customer,offer,topic,...   \n",
       "1               1  system,risk,product,use,production,range,high,...   \n",
       "2              10  technology,learn,great,offer,new,future,part,h...   \n",
       "3              10  technology,learn,great,new,future,part,health,...   \n",
       "4              10  learn,great,new,future,part,health,see,find,pr...   \n",
       "\n",
       "   log_all_engrate  \n",
       "0         0.613404  \n",
       "1         0.781277  \n",
       "2         0.630734  \n",
       "3         0.787070  \n",
       "4         0.513414  "
      ]
     },
     "execution_count": 94,
     "metadata": {},
     "output_type": "execute_result"
    }
   ],
   "source": [
    "df_ready = pd.merge(\n",
    "    df_init_obs,\n",
    "    df_agg.loc[:, [\"post_id\", \"t Impressions\", \"t Engagements\", \"class_weight\", \"Dominant_Topic\", \"Keywords\"]].rename(columns={\n",
    "        \"t Impressions\": \"log_all_imps\",\n",
    "        \"t Engagements\": \"log_all_engs\"\n",
    "    }),\n",
    "    on = 'post_id',\n",
    "    how = 'inner'\n",
    ")\n",
    "df_ready[\"log_all_engrate\"] = df_ready[\"log_all_engs\"]/df_ready[\"log_all_imps\"]\n",
    "df_ready.head()"
   ]
  },
  {
   "cell_type": "code",
   "execution_count": 135,
   "id": "ecce851f-84ed-43c5-8f75-64a993a1beff",
   "metadata": {},
   "outputs": [],
   "source": [
    "df_ready.to_csv(os.path.join(os.getenv('PROCESSED_DATA_FILES'), 'df_train_test.csv'), encoding='UTF-8', index=False)"
   ]
  }
 ],
 "metadata": {
  "kernelspec": {
   "display_name": "Python 3 (ipykernel)",
   "language": "python",
   "name": "python3"
  },
  "language_info": {
   "codemirror_mode": {
    "name": "ipython",
    "version": 3
   },
   "file_extension": ".py",
   "mimetype": "text/x-python",
   "name": "python",
   "nbconvert_exporter": "python",
   "pygments_lexer": "ipython3",
   "version": "3.10.8"
  }
 },
 "nbformat": 4,
 "nbformat_minor": 5
}
