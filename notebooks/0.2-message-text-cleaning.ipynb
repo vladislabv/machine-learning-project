{
 "cells": [
  {
   "cell_type": "code",
   "execution_count": 411,
   "id": "facdfdde-17ce-437c-872c-49e2363d32d0",
   "metadata": {},
   "outputs": [],
   "source": [
    "import os\n",
    "import dotenv\n",
    "import requests\n",
    "import numpy as np\n",
    "import pandas as pd"
   ]
  },
  {
   "cell_type": "code",
   "execution_count": 410,
   "id": "36688706-75a6-4af6-bdff-e4ce470088a1",
   "metadata": {},
   "outputs": [
    {
     "data": {
      "text/plain": [
       "True"
      ]
     },
     "execution_count": 410,
     "metadata": {},
     "output_type": "execute_result"
    }
   ],
   "source": [
    "# Load environment variables\n",
    "project_dir = os.path.join(os.path.abspath(''), os.pardir)\n",
    "dotenv_path = os.path.join(project_dir, '.env')\n",
    "\n",
    "dotenv.load_dotenv(dotenv_path)"
   ]
  },
  {
   "cell_type": "code",
   "execution_count": 412,
   "id": "0bfb7069-2fb8-49f1-9aa7-2285a226e1b1",
   "metadata": {},
   "outputs": [],
   "source": [
    "df = pd.read_csv(os.path.join(os.getenv('SAVE_INTERIM_FILES_PATH'), 'data_interim_new_features.csv'))\n",
    "df_translated = pd.read_csv(os.path.join(os.getenv('SAVE_INTERIM_FILES_PATH'), 'agg_posts_text_translated.csv'))"
   ]
  },
  {
   "cell_type": "code",
   "execution_count": 413,
   "id": "99106bd4-9f34-4bac-acfb-3858a82e8be7",
   "metadata": {},
   "outputs": [],
   "source": [
    "df = pd.merge(\n",
    "    df,\n",
    "    df_translated.loc[:, ['post_id', 'translated_text']],\n",
    "    left_on = \"ID\",\n",
    "    right_on = \"post_id\",\n",
    "    how = 'left'\n",
    ").drop(columns=['post_id'])"
   ]
  },
  {
   "cell_type": "code",
   "execution_count": 227,
   "id": "92992a0d-227a-4c31-95af-e78c8fc7674f",
   "metadata": {},
   "outputs": [],
   "source": [
    "#import hashlib\n",
    "#hash_object = lambda txt: hashlib.sha512(txt.encode()).hexdigest()"
   ]
  },
  {
   "cell_type": "code",
   "execution_count": 228,
   "id": "98d98d2f-7abf-409d-88d4-7343d317b3b4",
   "metadata": {},
   "outputs": [],
   "source": [
    "# add hashes to texts in order to merge them back after cleaning&translating\n",
    "#df.loc[:, 'text_hash'] = df['Message Text'].apply(hash_object)"
   ]
  },
  {
   "cell_type": "code",
   "execution_count": 414,
   "id": "7a71ac1d-81fb-4a6d-a1f9-4877b220acef",
   "metadata": {},
   "outputs": [],
   "source": [
    "df_work = (\n",
    "    df.loc[:, ['Message Text', 'translated_text', 'ID']]\n",
    "    .drop_duplicates(subset=['ID'])\n",
    "    .set_index('ID')\n",
    ")"
   ]
  },
  {
   "cell_type": "code",
   "execution_count": 415,
   "id": "67b9902a-eba2-4b6b-9694-c5a8d776d731",
   "metadata": {},
   "outputs": [
    {
     "data": {
      "text/html": [
       "<div>\n",
       "<style scoped>\n",
       "    .dataframe tbody tr th:only-of-type {\n",
       "        vertical-align: middle;\n",
       "    }\n",
       "\n",
       "    .dataframe tbody tr th {\n",
       "        vertical-align: top;\n",
       "    }\n",
       "\n",
       "    .dataframe thead th {\n",
       "        text-align: right;\n",
       "    }\n",
       "</style>\n",
       "<table border=\"1\" class=\"dataframe\">\n",
       "  <thead>\n",
       "    <tr style=\"text-align: right;\">\n",
       "      <th></th>\n",
       "      <th>Message Text</th>\n",
       "      <th>translated_text</th>\n",
       "    </tr>\n",
       "    <tr>\n",
       "      <th>ID</th>\n",
       "      <th></th>\n",
       "      <th></th>\n",
       "    </tr>\n",
       "  </thead>\n",
       "  <tbody>\n",
       "    <tr>\n",
       "      <th>urn:li:share:7049687219682299905</th>\n",
       "      <td>2023 – the year of #ChatGPT and Co. 🤯 Will gen...</td>\n",
       "      <td>NaN</td>\n",
       "    </tr>\n",
       "    <tr>\n",
       "      <th>urn:li:share:7079078881395167233</th>\n",
       "      <td>Smart Mechatronix: the perfect ready-to-instal...</td>\n",
       "      <td>smart mechatronix: the perfect ready-to-instal...</td>\n",
       "    </tr>\n",
       "    <tr>\n",
       "      <th>urn:li:share:7054408337148325888</th>\n",
       "      <td>We love oranges so much, we want to extract as...</td>\n",
       "      <td>we love oranges so much, we want to extract as...</td>\n",
       "    </tr>\n",
       "    <tr>\n",
       "      <th>urn:li:ugcPost:7069950389063667712</th>\n",
       "      <td>“Inclusion starts with I” – @[Nadine Ilgenstei...</td>\n",
       "      <td>“inclusion starts with i” – @[nadine ilgenstei...</td>\n",
       "    </tr>\n",
       "    <tr>\n",
       "      <th>urn:li:share:7057277321598132224</th>\n",
       "      <td>MediaMarktSaturn geht den nächsten digitalen S...</td>\n",
       "      <td>NaN</td>\n",
       "    </tr>\n",
       "    <tr>\n",
       "      <th>...</th>\n",
       "      <td>...</td>\n",
       "      <td>...</td>\n",
       "    </tr>\n",
       "    <tr>\n",
       "      <th>urn:li:ugcPost:7069272909654974464</th>\n",
       "      <td>📢 Opportunity Alert! 🌟 Join our Social Media T...</td>\n",
       "      <td>📢 opportunity alert! 🌟 join our social media t...</td>\n",
       "    </tr>\n",
       "    <tr>\n",
       "      <th>urn:li:share:7066306460166549504</th>\n",
       "      <td>Spændende mulighed: Marketing koordinator hos ...</td>\n",
       "      <td>Exciting option: Marketing Coordinator at Bosc...</td>\n",
       "    </tr>\n",
       "    <tr>\n",
       "      <th>urn:li:share:7066744349828501504</th>\n",
       "      <td>Automation live erleben. Heute beginnt die #SM...</td>\n",
       "      <td>Experience automation live.Today the #SmartAut...</td>\n",
       "    </tr>\n",
       "    <tr>\n",
       "      <th>urn:li:share:7067017155375968256</th>\n",
       "      <td>Webinarium 25.05.2023: Ekstremalne ciepło i tr...</td>\n",
       "      <td>NaN</td>\n",
       "    </tr>\n",
       "    <tr>\n",
       "      <th>urn:li:share:7069655706655674369</th>\n",
       "      <td>Get the most out of digitalization and sustain...</td>\n",
       "      <td>Get the Most Out of Digitalization and Sustain...</td>\n",
       "    </tr>\n",
       "  </tbody>\n",
       "</table>\n",
       "<p>4283 rows × 2 columns</p>\n",
       "</div>"
      ],
      "text/plain": [
       "                                                                         Message Text  \\\n",
       "ID                                                                                      \n",
       "urn:li:share:7049687219682299905    2023 – the year of #ChatGPT and Co. 🤯 Will gen...   \n",
       "urn:li:share:7079078881395167233    Smart Mechatronix: the perfect ready-to-instal...   \n",
       "urn:li:share:7054408337148325888    We love oranges so much, we want to extract as...   \n",
       "urn:li:ugcPost:7069950389063667712  “Inclusion starts with I” – @[Nadine Ilgenstei...   \n",
       "urn:li:share:7057277321598132224    MediaMarktSaturn geht den nächsten digitalen S...   \n",
       "...                                                                               ...   \n",
       "urn:li:ugcPost:7069272909654974464  📢 Opportunity Alert! 🌟 Join our Social Media T...   \n",
       "urn:li:share:7066306460166549504    Spændende mulighed: Marketing koordinator hos ...   \n",
       "urn:li:share:7066744349828501504    Automation live erleben. Heute beginnt die #SM...   \n",
       "urn:li:share:7067017155375968256    Webinarium 25.05.2023: Ekstremalne ciepło i tr...   \n",
       "urn:li:share:7069655706655674369    Get the most out of digitalization and sustain...   \n",
       "\n",
       "                                                                      translated_text  \n",
       "ID                                                                                     \n",
       "urn:li:share:7049687219682299905                                                  NaN  \n",
       "urn:li:share:7079078881395167233    smart mechatronix: the perfect ready-to-instal...  \n",
       "urn:li:share:7054408337148325888    we love oranges so much, we want to extract as...  \n",
       "urn:li:ugcPost:7069950389063667712  “inclusion starts with i” – @[nadine ilgenstei...  \n",
       "urn:li:share:7057277321598132224                                                  NaN  \n",
       "...                                                                               ...  \n",
       "urn:li:ugcPost:7069272909654974464  📢 opportunity alert! 🌟 join our social media t...  \n",
       "urn:li:share:7066306460166549504    Exciting option: Marketing Coordinator at Bosc...  \n",
       "urn:li:share:7066744349828501504    Experience automation live.Today the #SmartAut...  \n",
       "urn:li:share:7067017155375968256                                                  NaN  \n",
       "urn:li:share:7069655706655674369    Get the Most Out of Digitalization and Sustain...  \n",
       "\n",
       "[4283 rows x 2 columns]"
      ]
     },
     "execution_count": 415,
     "metadata": {},
     "output_type": "execute_result"
    }
   ],
   "source": [
    "df_work"
   ]
  },
  {
   "cell_type": "code",
   "execution_count": 416,
   "id": "d2a53e25-27bb-41da-b87d-e5fe55dc34bf",
   "metadata": {},
   "outputs": [],
   "source": [
    "df_work.loc[:, 'lang'] = np.where(df_work['translated_text'].str.len() > 0, 'ENGLISH', np.nan)\n",
    "df_work.loc[:, 'text'] = df_work['translated_text'].combine_first(df_work['Message Text'])"
   ]
  },
  {
   "cell_type": "code",
   "execution_count": 417,
   "id": "39b7dc7e-28f0-44fe-851c-6d8d035268d3",
   "metadata": {},
   "outputs": [
    {
     "data": {
      "text/html": [
       "<div>\n",
       "<style scoped>\n",
       "    .dataframe tbody tr th:only-of-type {\n",
       "        vertical-align: middle;\n",
       "    }\n",
       "\n",
       "    .dataframe tbody tr th {\n",
       "        vertical-align: top;\n",
       "    }\n",
       "\n",
       "    .dataframe thead th {\n",
       "        text-align: right;\n",
       "    }\n",
       "</style>\n",
       "<table border=\"1\" class=\"dataframe\">\n",
       "  <thead>\n",
       "    <tr style=\"text-align: right;\">\n",
       "      <th></th>\n",
       "      <th>Message Text</th>\n",
       "      <th>translated_text</th>\n",
       "      <th>lang</th>\n",
       "      <th>text</th>\n",
       "    </tr>\n",
       "    <tr>\n",
       "      <th>ID</th>\n",
       "      <th></th>\n",
       "      <th></th>\n",
       "      <th></th>\n",
       "      <th></th>\n",
       "    </tr>\n",
       "  </thead>\n",
       "  <tbody>\n",
       "    <tr>\n",
       "      <th>urn:li:share:7049687219682299905</th>\n",
       "      <td>2023 – the year of #ChatGPT and Co. 🤯 Will gen...</td>\n",
       "      <td>NaN</td>\n",
       "      <td>nan</td>\n",
       "      <td>2023 – the year of #ChatGPT and Co. 🤯 Will gen...</td>\n",
       "    </tr>\n",
       "    <tr>\n",
       "      <th>urn:li:share:7079078881395167233</th>\n",
       "      <td>Smart Mechatronix: the perfect ready-to-instal...</td>\n",
       "      <td>smart mechatronix: the perfect ready-to-instal...</td>\n",
       "      <td>ENGLISH</td>\n",
       "      <td>smart mechatronix: the perfect ready-to-instal...</td>\n",
       "    </tr>\n",
       "    <tr>\n",
       "      <th>urn:li:share:7054408337148325888</th>\n",
       "      <td>We love oranges so much, we want to extract as...</td>\n",
       "      <td>we love oranges so much, we want to extract as...</td>\n",
       "      <td>ENGLISH</td>\n",
       "      <td>we love oranges so much, we want to extract as...</td>\n",
       "    </tr>\n",
       "    <tr>\n",
       "      <th>urn:li:ugcPost:7069950389063667712</th>\n",
       "      <td>“Inclusion starts with I” – @[Nadine Ilgenstei...</td>\n",
       "      <td>“inclusion starts with i” – @[nadine ilgenstei...</td>\n",
       "      <td>ENGLISH</td>\n",
       "      <td>“inclusion starts with i” – @[nadine ilgenstei...</td>\n",
       "    </tr>\n",
       "    <tr>\n",
       "      <th>urn:li:share:7057277321598132224</th>\n",
       "      <td>MediaMarktSaturn geht den nächsten digitalen S...</td>\n",
       "      <td>NaN</td>\n",
       "      <td>nan</td>\n",
       "      <td>MediaMarktSaturn geht den nächsten digitalen S...</td>\n",
       "    </tr>\n",
       "    <tr>\n",
       "      <th>...</th>\n",
       "      <td>...</td>\n",
       "      <td>...</td>\n",
       "      <td>...</td>\n",
       "      <td>...</td>\n",
       "    </tr>\n",
       "    <tr>\n",
       "      <th>urn:li:ugcPost:7069272909654974464</th>\n",
       "      <td>📢 Opportunity Alert! 🌟 Join our Social Media T...</td>\n",
       "      <td>📢 opportunity alert! 🌟 join our social media t...</td>\n",
       "      <td>ENGLISH</td>\n",
       "      <td>📢 opportunity alert! 🌟 join our social media t...</td>\n",
       "    </tr>\n",
       "    <tr>\n",
       "      <th>urn:li:share:7066306460166549504</th>\n",
       "      <td>Spændende mulighed: Marketing koordinator hos ...</td>\n",
       "      <td>Exciting option: Marketing Coordinator at Bosc...</td>\n",
       "      <td>ENGLISH</td>\n",
       "      <td>Exciting option: Marketing Coordinator at Bosc...</td>\n",
       "    </tr>\n",
       "    <tr>\n",
       "      <th>urn:li:share:7066744349828501504</th>\n",
       "      <td>Automation live erleben. Heute beginnt die #SM...</td>\n",
       "      <td>Experience automation live.Today the #SmartAut...</td>\n",
       "      <td>ENGLISH</td>\n",
       "      <td>Experience automation live.Today the #SmartAut...</td>\n",
       "    </tr>\n",
       "    <tr>\n",
       "      <th>urn:li:share:7067017155375968256</th>\n",
       "      <td>Webinarium 25.05.2023: Ekstremalne ciepło i tr...</td>\n",
       "      <td>NaN</td>\n",
       "      <td>nan</td>\n",
       "      <td>Webinarium 25.05.2023: Ekstremalne ciepło i tr...</td>\n",
       "    </tr>\n",
       "    <tr>\n",
       "      <th>urn:li:share:7069655706655674369</th>\n",
       "      <td>Get the most out of digitalization and sustain...</td>\n",
       "      <td>Get the Most Out of Digitalization and Sustain...</td>\n",
       "      <td>ENGLISH</td>\n",
       "      <td>Get the Most Out of Digitalization and Sustain...</td>\n",
       "    </tr>\n",
       "  </tbody>\n",
       "</table>\n",
       "<p>4283 rows × 4 columns</p>\n",
       "</div>"
      ],
      "text/plain": [
       "                                                                         Message Text  \\\n",
       "ID                                                                                      \n",
       "urn:li:share:7049687219682299905    2023 – the year of #ChatGPT and Co. 🤯 Will gen...   \n",
       "urn:li:share:7079078881395167233    Smart Mechatronix: the perfect ready-to-instal...   \n",
       "urn:li:share:7054408337148325888    We love oranges so much, we want to extract as...   \n",
       "urn:li:ugcPost:7069950389063667712  “Inclusion starts with I” – @[Nadine Ilgenstei...   \n",
       "urn:li:share:7057277321598132224    MediaMarktSaturn geht den nächsten digitalen S...   \n",
       "...                                                                               ...   \n",
       "urn:li:ugcPost:7069272909654974464  📢 Opportunity Alert! 🌟 Join our Social Media T...   \n",
       "urn:li:share:7066306460166549504    Spændende mulighed: Marketing koordinator hos ...   \n",
       "urn:li:share:7066744349828501504    Automation live erleben. Heute beginnt die #SM...   \n",
       "urn:li:share:7067017155375968256    Webinarium 25.05.2023: Ekstremalne ciepło i tr...   \n",
       "urn:li:share:7069655706655674369    Get the most out of digitalization and sustain...   \n",
       "\n",
       "                                                                      translated_text  \\\n",
       "ID                                                                                      \n",
       "urn:li:share:7049687219682299905                                                  NaN   \n",
       "urn:li:share:7079078881395167233    smart mechatronix: the perfect ready-to-instal...   \n",
       "urn:li:share:7054408337148325888    we love oranges so much, we want to extract as...   \n",
       "urn:li:ugcPost:7069950389063667712  “inclusion starts with i” – @[nadine ilgenstei...   \n",
       "urn:li:share:7057277321598132224                                                  NaN   \n",
       "...                                                                               ...   \n",
       "urn:li:ugcPost:7069272909654974464  📢 opportunity alert! 🌟 join our social media t...   \n",
       "urn:li:share:7066306460166549504    Exciting option: Marketing Coordinator at Bosc...   \n",
       "urn:li:share:7066744349828501504    Experience automation live.Today the #SmartAut...   \n",
       "urn:li:share:7067017155375968256                                                  NaN   \n",
       "urn:li:share:7069655706655674369    Get the Most Out of Digitalization and Sustain...   \n",
       "\n",
       "                                       lang  \\\n",
       "ID                                            \n",
       "urn:li:share:7049687219682299905        nan   \n",
       "urn:li:share:7079078881395167233    ENGLISH   \n",
       "urn:li:share:7054408337148325888    ENGLISH   \n",
       "urn:li:ugcPost:7069950389063667712  ENGLISH   \n",
       "urn:li:share:7057277321598132224        nan   \n",
       "...                                     ...   \n",
       "urn:li:ugcPost:7069272909654974464  ENGLISH   \n",
       "urn:li:share:7066306460166549504    ENGLISH   \n",
       "urn:li:share:7066744349828501504    ENGLISH   \n",
       "urn:li:share:7067017155375968256        nan   \n",
       "urn:li:share:7069655706655674369    ENGLISH   \n",
       "\n",
       "                                                                                 text  \n",
       "ID                                                                                     \n",
       "urn:li:share:7049687219682299905    2023 – the year of #ChatGPT and Co. 🤯 Will gen...  \n",
       "urn:li:share:7079078881395167233    smart mechatronix: the perfect ready-to-instal...  \n",
       "urn:li:share:7054408337148325888    we love oranges so much, we want to extract as...  \n",
       "urn:li:ugcPost:7069950389063667712  “inclusion starts with i” – @[nadine ilgenstei...  \n",
       "urn:li:share:7057277321598132224    MediaMarktSaturn geht den nächsten digitalen S...  \n",
       "...                                                                               ...  \n",
       "urn:li:ugcPost:7069272909654974464  📢 opportunity alert! 🌟 join our social media t...  \n",
       "urn:li:share:7066306460166549504    Exciting option: Marketing Coordinator at Bosc...  \n",
       "urn:li:share:7066744349828501504    Experience automation live.Today the #SmartAut...  \n",
       "urn:li:share:7067017155375968256    Webinarium 25.05.2023: Ekstremalne ciepło i tr...  \n",
       "urn:li:share:7069655706655674369    Get the Most Out of Digitalization and Sustain...  \n",
       "\n",
       "[4283 rows x 4 columns]"
      ]
     },
     "execution_count": 417,
     "metadata": {},
     "output_type": "execute_result"
    }
   ],
   "source": [
    "df_work"
   ]
  },
  {
   "cell_type": "code",
   "execution_count": 418,
   "id": "263a7cdc-3cb8-4658-a56b-ef9ee08f5400",
   "metadata": {},
   "outputs": [],
   "source": [
    "# drop everything but text\n",
    "df_work = df_work.drop(columns=['Message Text', 'translated_text'])"
   ]
  },
  {
   "cell_type": "code",
   "execution_count": 251,
   "id": "2f2aa867-2cc1-4406-bdcb-e66a0475039e",
   "metadata": {},
   "outputs": [],
   "source": [
    "text = \"Being challenged by limited eyesight has not held our colleague and #körbercareerpioneer Alexander Nagulin back from making a great career as a Technical Project Designer at our Business Area @[Körber](urn:li:organization:9372502) Pharma. 💙 This month, we celebrate his 15th anniversary with us and we are beyond proud to have him on board! Read more about his career path: 👉 Join the #homeforentrepreneurs and pioneer your career with us: https://jobs.koerber.com/   #strongertogether #wearekörber #wearehiring \""
   ]
  },
  {
   "cell_type": "code",
   "execution_count": 252,
   "id": "b4f842b8-e4bf-4221-96f1-fa3c4d5db6c1",
   "metadata": {},
   "outputs": [],
   "source": [
    "text = \"Did you know that bees travel more than 100,000 km for a single jar of honey? 🐝🍯 “And every day, the bees fascinate me even more,” says @[Barbara Marques](urn:li:person:9o0zWuDMLQ). She's working for our cross-domain computing solutions division. At her desk, she’s responsible for selling hardware, software, and service solutions for driver assistance and autonomous driving, while at lofty heights, she becomes a beekeeper. Together with a group of colleagues, Barbara takes care of four bee colonies that have her home on the green roof of one of our Stuttgart-Feuerbach buildings. 🐝🐝🐝🐝  By providing a safe space for the bees and thereby helping the colonies flourish and grow, the hobby beekeepers are making an important contribution to local biodiversity. As for Barbara personally: She’s just an elevator ride away from her most favorite hobby to calm down and relax. 🌺😌 #worldbeeday #wellbeing #workplacewellness #workplaceculture\""
   ]
  },
  {
   "cell_type": "code",
   "execution_count": 253,
   "id": "577b62c7-6da6-407d-9f8d-745aa4e45ac1",
   "metadata": {},
   "outputs": [],
   "source": [
    "text = \"Manchmal kommt es einfach auf das „Popometer” an. 🤷  Was wir damit meinen? Auch wenn wir bei unserer Arbeit viele Simulationen durchführen – es ist nicht möglich, alle Störungen am Computer zu simulieren. 💻 Deswegen setzen wir noch heute auf Straßentests, um Steuer- und Regelsysteme wie ABS oder die Geschwindigkeitsregelung Adaptive Cruise Control \\(ACC\\) zu erproben.  Unser Prüfzentrum in Boxberg ist genau dafür entstanden – und feiert dieses Jahr 25-jähriges Jubiläum. 🎉 Am 15. Juni 1998 wurde es nach zwei Jahren Bauzeit in Betrieb genommen. Umgeben von einem drei Kilometer langen Hochgeschwindigkeitsoval gibt es auf dem Gelände weitere Testmöglichkeiten: von einer Fahrdynamikplatte bis hin zu einer Wasserstrecke zur Simulation von Aquaplaning. 🚗 Direkt neben der Teststrecke befinden sich die Büros und Werkstätten, in denen die Kolleginnen und Kollegen die Entwicklungen nach den Tests optimieren können. Mehr dazu gibt’s hier: https://bit.ly/3WSw8YE  Am 25. Juni 2023 feiern wir das Jubiläum – und du kannst mit dabei sein. Komme zwischen 10 und 17 Uhr aufs Gelände und freue dich auf … spektakuläre Fahrzeuge … eine Streckenrundfahrt im Oldtimerbus  … eine Bosch Karriere-Beratung … und vieles mehr. Der Eintritt ist kostenlos. Wir freuen uns auf dich!  Work #LikeABosch #boxberg #event\""
   ]
  },
  {
   "cell_type": "code",
   "execution_count": 254,
   "id": "69a0e514-3e59-4594-abd7-5aa1f2768df5",
   "metadata": {},
   "outputs": [],
   "source": [
    "text = 'At\\xa0@[Bosch Rexroth Canada](urn:li:organization:620856)\\xa0we have many associates joining us from all over the world. We celebrate diversity within our company and pride ourselves with having associates from a variety of cultural backgrounds, it makes us who we are.  This past week we were delighted to have some of our Brazilian associates put together a delicious Brazilian-themed BBQ for our Canada Day celebration.  We tasted a variety of a delicious Brazilian favorites, listened to some great culture-inspired music & even played a Brazilian-themed trivia game!  A HUGE thank you to all of the associates involved in putting on such an wonderful event and to everyone who donated to our local charity\\xa0@[Community Crew](urn:li:organization:35484679).  #canadaday2023\\xa0#boschrexroth\\xa0#wemoveyouwin #brazil #brazilbbq'"
   ]
  },
  {
   "cell_type": "code",
   "execution_count": 255,
   "id": "cc1067ba-ea06-46b0-8dfe-bf1a7a86623d",
   "metadata": {},
   "outputs": [],
   "source": [
    "text = 'Đảm bảo hiệu suất tối ưu của bộ truyền động và điều khiển điện   {hashtag|\\#|BoschRexrothVietnam} của bạn với Trung tâm sửa chữa được ủy quyền từ Bosch   Rexroth Vietnam. Sự hỗ trợ tận tình của chúng tôi giúp bạn giữ và bảo vệ các   truyền động và điều khiển của mình luôn hoạt động. {hashtag|\\#|Electricdrive}   {hashtag|\\#|controls}'"
   ]
  },
  {
   "cell_type": "code",
   "execution_count": 419,
   "id": "dc0be96f-ecae-4469-9b85-4adea1edc13d",
   "metadata": {},
   "outputs": [],
   "source": [
    "import re\n",
    "import unicodedata\n",
    "r_li_artifacts = r\"@\\[[^\\]]*\\]\\s*\\([^\\)]*\\)\"#r\"@\\[.*\\]\\s+\\(.*\\)\"\n",
    "r_hashtags = r\"#\\w+|\\{hashtag\\|\\\\#\\|\\w+\\}\"\n",
    "r_links = r\"http\\S+|www\\S+\"\n",
    "r_allow_characters = r\"[^\\w\\s,.-]\"\n",
    "rgx = '|'.join([\n",
    "    r_li_artifacts,\n",
    "    r_hashtags,\n",
    "    r_links,\n",
    "    r_allow_characters\n",
    "])\n",
    "\n",
    "clean_txt_bf_transl = lambda txt: unicodedata.normalize(\n",
    "    'NFKD', \n",
    "    ' '.join(\n",
    "        re.sub(rgx, \"\", txt, flags=re.IGNORECASE)\n",
    "        .lower()\n",
    "        .split()\n",
    "    )\n",
    ")"
   ]
  },
  {
   "cell_type": "code",
   "execution_count": 420,
   "id": "69db48b5-17d8-4d79-a745-5bece37ff775",
   "metadata": {},
   "outputs": [
    {
     "data": {
      "text/plain": [
       "'đảm bảo hiệu suất tối ưu của bộ truyền động và điều khiển điện của bạn với trung tâm sửa chữa được ủy quyền từ bosch rexroth vietnam. sự hỗ trợ tận tình của chúng tôi giúp bạn giữ và bảo vệ các truyền động và điều khiển của mình luôn hoạt động.'"
      ]
     },
     "execution_count": 420,
     "metadata": {},
     "output_type": "execute_result"
    }
   ],
   "source": [
    "' '.join( re.sub(rgx, \"\", text, flags=re.IGNORECASE).lower().split() )"
   ]
  },
  {
   "cell_type": "code",
   "execution_count": 421,
   "id": "2e4c9d46-b621-4010-9088-4aba3f7f592f",
   "metadata": {},
   "outputs": [],
   "source": [
    "df_work.loc[:, 'text_clean'] =  df_work['text'].apply(clean_txt_bf_transl)"
   ]
  },
  {
   "cell_type": "code",
   "execution_count": 422,
   "id": "a9476e70-7b1a-459f-85bb-6f8653227862",
   "metadata": {},
   "outputs": [
    {
     "data": {
      "text/html": [
       "<div>\n",
       "<style scoped>\n",
       "    .dataframe tbody tr th:only-of-type {\n",
       "        vertical-align: middle;\n",
       "    }\n",
       "\n",
       "    .dataframe tbody tr th {\n",
       "        vertical-align: top;\n",
       "    }\n",
       "\n",
       "    .dataframe thead th {\n",
       "        text-align: right;\n",
       "    }\n",
       "</style>\n",
       "<table border=\"1\" class=\"dataframe\">\n",
       "  <thead>\n",
       "    <tr style=\"text-align: right;\">\n",
       "      <th></th>\n",
       "      <th>text_clean</th>\n",
       "      <th>text</th>\n",
       "    </tr>\n",
       "    <tr>\n",
       "      <th>ID</th>\n",
       "      <th></th>\n",
       "      <th></th>\n",
       "    </tr>\n",
       "  </thead>\n",
       "  <tbody>\n",
       "    <tr>\n",
       "      <th>urn:li:share:7037594009816502273</th>\n",
       "      <td></td>\n",
       "      <td>#wemoveyouwin</td>\n",
       "    </tr>\n",
       "    <tr>\n",
       "      <th>urn:li:share:7022175312142561280</th>\n",
       "      <td></td>\n",
       "      <td>💙</td>\n",
       "    </tr>\n",
       "  </tbody>\n",
       "</table>\n",
       "</div>"
      ],
      "text/plain": [
       "                                 text_clean           text\n",
       "ID                                                        \n",
       "urn:li:share:7037594009816502273             #wemoveyouwin\n",
       "urn:li:share:7022175312142561280                         💙"
      ]
     },
     "execution_count": 422,
     "metadata": {},
     "output_type": "execute_result"
    }
   ],
   "source": [
    "# also will appear later after merging with the main dataset\n",
    "df_work[df_work['text_clean'].str.len() < 1].loc[:, ['text_clean', 'text']]"
   ]
  },
  {
   "cell_type": "code",
   "execution_count": 423,
   "id": "6306a8f9-2c49-40e1-b6cf-92cc5f0616bd",
   "metadata": {},
   "outputs": [],
   "source": [
    "df_work = df_work[df_work['text_clean'].str.len() > 0]"
   ]
  },
  {
   "cell_type": "code",
   "execution_count": 424,
   "id": "2353d7be-7b85-4f6d-b31f-7b636379cc9d",
   "metadata": {},
   "outputs": [],
   "source": [
    "from lingua import LanguageDetectorBuilder\n",
    "\n",
    "detector = (\n",
    "  LanguageDetectorBuilder.from_all_languages()\n",
    "  .with_preloaded_language_models()\n",
    "  .build()\n",
    ")\n",
    "\n",
    "def classify(text):\n",
    "    result = detector.detect_language_of(text)\n",
    "    return result.name if result else None"
   ]
  },
  {
   "cell_type": "code",
   "execution_count": 425,
   "id": "07de0a30-8fcf-47cf-88f7-55082881c0dc",
   "metadata": {},
   "outputs": [],
   "source": [
    "# identify language\n",
    "df_work.loc[df_work['lang'] != 'ENGLISH', 'lang'] = df_work.loc[df_work['lang'] != 'ENGLISH', 'text_clean'].apply(classify)"
   ]
  },
  {
   "cell_type": "code",
   "execution_count": 426,
   "id": "623bea9c-1b6c-415e-9a17-21293ad9b683",
   "metadata": {},
   "outputs": [
    {
     "data": {
      "text/plain": [
       "array(['ENGLISH', 'GERMAN', 'SPANISH', 'GREEK', 'POLISH', 'TURKISH',\n",
       "       'PORTUGUESE', 'CROATIAN', 'ROMANIAN', 'SWEDISH', 'FRENCH',\n",
       "       'SLOVAK', 'TSONGA', 'BOKMAL', 'ITALIAN'], dtype=object)"
      ]
     },
     "execution_count": 426,
     "metadata": {},
     "output_type": "execute_result"
    }
   ],
   "source": [
    "df_work['lang'].unique()"
   ]
  },
  {
   "cell_type": "code",
   "execution_count": 427,
   "id": "fc06907d-d14f-47b6-9a4d-4aad1a6a940c",
   "metadata": {},
   "outputs": [
    {
     "data": {
      "text/plain": [
       "227"
      ]
     },
     "execution_count": 427,
     "metadata": {},
     "output_type": "execute_result"
    }
   ],
   "source": [
    "len(df_work[df_work['lang'] != 'ENGLISH'])"
   ]
  },
  {
   "cell_type": "code",
   "execution_count": 428,
   "id": "d49d9ad3-2db3-4281-b49e-9890d0a13d62",
   "metadata": {},
   "outputs": [],
   "source": [
    "from deep_translator import GoogleTranslator\n",
    "\n",
    "# Use any translator you like, in this example GoogleTranslator\n",
    "translate_ = lambda txt: GoogleTranslator(source='auto', target='en').translate(txt)"
   ]
  },
  {
   "cell_type": "code",
   "execution_count": 429,
   "id": "ff65b326-cfc9-448d-9d92-b4ed118459df",
   "metadata": {},
   "outputs": [],
   "source": [
    "df_work.loc[df_work['lang'] != 'ENGLISH', 'text_clean'] = df_work.loc[df_work['lang'] != 'ENGLISH', 'text_clean'].apply(translate_)"
   ]
  },
  {
   "cell_type": "code",
   "execution_count": 430,
   "id": "53827f61-87e8-4268-9425-9eddbd6dd834",
   "metadata": {},
   "outputs": [],
   "source": [
    "df_work = df_work.rename(columns={'text_clean': 'text_clean_and_translated'})"
   ]
  },
  {
   "cell_type": "code",
   "execution_count": 431,
   "id": "b6119d2c-e1cf-4885-af2c-3f69c94b0de0",
   "metadata": {},
   "outputs": [
    {
     "data": {
      "text/html": [
       "<div>\n",
       "<style scoped>\n",
       "    .dataframe tbody tr th:only-of-type {\n",
       "        vertical-align: middle;\n",
       "    }\n",
       "\n",
       "    .dataframe tbody tr th {\n",
       "        vertical-align: top;\n",
       "    }\n",
       "\n",
       "    .dataframe thead th {\n",
       "        text-align: right;\n",
       "    }\n",
       "</style>\n",
       "<table border=\"1\" class=\"dataframe\">\n",
       "  <thead>\n",
       "    <tr style=\"text-align: right;\">\n",
       "      <th></th>\n",
       "      <th>lang</th>\n",
       "      <th>text</th>\n",
       "      <th>text_clean_and_translated</th>\n",
       "    </tr>\n",
       "    <tr>\n",
       "      <th>ID</th>\n",
       "      <th></th>\n",
       "      <th></th>\n",
       "      <th></th>\n",
       "    </tr>\n",
       "  </thead>\n",
       "  <tbody>\n",
       "    <tr>\n",
       "      <th>urn:li:share:7049687219682299905</th>\n",
       "      <td>ENGLISH</td>\n",
       "      <td>2023 – the year of #ChatGPT and Co. 🤯 Will gen...</td>\n",
       "      <td>2023 the year of and co. will generative ai ch...</td>\n",
       "    </tr>\n",
       "    <tr>\n",
       "      <th>urn:li:share:7079078881395167233</th>\n",
       "      <td>ENGLISH</td>\n",
       "      <td>smart mechatronix: the perfect ready-to-instal...</td>\n",
       "      <td>smart mechatronix the perfect ready-to-install...</td>\n",
       "    </tr>\n",
       "    <tr>\n",
       "      <th>urn:li:share:7054408337148325888</th>\n",
       "      <td>ENGLISH</td>\n",
       "      <td>we love oranges so much, we want to extract as...</td>\n",
       "      <td>we love oranges so much, we want to extract as...</td>\n",
       "    </tr>\n",
       "    <tr>\n",
       "      <th>urn:li:ugcPost:7069950389063667712</th>\n",
       "      <td>ENGLISH</td>\n",
       "      <td>“inclusion starts with i” – @[nadine ilgenstei...</td>\n",
       "      <td>inclusion starts with i , global head of hr st...</td>\n",
       "    </tr>\n",
       "    <tr>\n",
       "      <th>urn:li:share:7057277321598132224</th>\n",
       "      <td>GERMAN</td>\n",
       "      <td>MediaMarktSaturn geht den nächsten digitalen S...</td>\n",
       "      <td>mediamarktsaturn is taking the next digital st...</td>\n",
       "    </tr>\n",
       "    <tr>\n",
       "      <th>...</th>\n",
       "      <td>...</td>\n",
       "      <td>...</td>\n",
       "      <td>...</td>\n",
       "    </tr>\n",
       "    <tr>\n",
       "      <th>urn:li:ugcPost:7069272909654974464</th>\n",
       "      <td>ENGLISH</td>\n",
       "      <td>📢 opportunity alert! 🌟 join our social media t...</td>\n",
       "      <td>opportunity alert join our social media team a...</td>\n",
       "    </tr>\n",
       "    <tr>\n",
       "      <th>urn:li:share:7066306460166549504</th>\n",
       "      <td>ENGLISH</td>\n",
       "      <td>Exciting option: Marketing Coordinator at Bosc...</td>\n",
       "      <td>exciting option marketing coordinator at bosch...</td>\n",
       "    </tr>\n",
       "    <tr>\n",
       "      <th>urn:li:share:7066744349828501504</th>\n",
       "      <td>ENGLISH</td>\n",
       "      <td>Experience automation live.Today the #SmartAut...</td>\n",
       "      <td>experience automation live.today the in linz b...</td>\n",
       "    </tr>\n",
       "    <tr>\n",
       "      <th>urn:li:share:7067017155375968256</th>\n",
       "      <td>POLISH</td>\n",
       "      <td>Webinarium 25.05.2023: Ekstremalne ciepło i tr...</td>\n",
       "      <td>webinar May 25, 2023 extreme heat and difficul...</td>\n",
       "    </tr>\n",
       "    <tr>\n",
       "      <th>urn:li:share:7069655706655674369</th>\n",
       "      <td>ENGLISH</td>\n",
       "      <td>Get the Most Out of Digitalization and Sustain...</td>\n",
       "      <td>get the most out of digitalization and sustain...</td>\n",
       "    </tr>\n",
       "  </tbody>\n",
       "</table>\n",
       "<p>4281 rows × 3 columns</p>\n",
       "</div>"
      ],
      "text/plain": [
       "                                       lang  \\\n",
       "ID                                            \n",
       "urn:li:share:7049687219682299905    ENGLISH   \n",
       "urn:li:share:7079078881395167233    ENGLISH   \n",
       "urn:li:share:7054408337148325888    ENGLISH   \n",
       "urn:li:ugcPost:7069950389063667712  ENGLISH   \n",
       "urn:li:share:7057277321598132224     GERMAN   \n",
       "...                                     ...   \n",
       "urn:li:ugcPost:7069272909654974464  ENGLISH   \n",
       "urn:li:share:7066306460166549504    ENGLISH   \n",
       "urn:li:share:7066744349828501504    ENGLISH   \n",
       "urn:li:share:7067017155375968256     POLISH   \n",
       "urn:li:share:7069655706655674369    ENGLISH   \n",
       "\n",
       "                                                                                 text  \\\n",
       "ID                                                                                      \n",
       "urn:li:share:7049687219682299905    2023 – the year of #ChatGPT and Co. 🤯 Will gen...   \n",
       "urn:li:share:7079078881395167233    smart mechatronix: the perfect ready-to-instal...   \n",
       "urn:li:share:7054408337148325888    we love oranges so much, we want to extract as...   \n",
       "urn:li:ugcPost:7069950389063667712  “inclusion starts with i” – @[nadine ilgenstei...   \n",
       "urn:li:share:7057277321598132224    MediaMarktSaturn geht den nächsten digitalen S...   \n",
       "...                                                                               ...   \n",
       "urn:li:ugcPost:7069272909654974464  📢 opportunity alert! 🌟 join our social media t...   \n",
       "urn:li:share:7066306460166549504    Exciting option: Marketing Coordinator at Bosc...   \n",
       "urn:li:share:7066744349828501504    Experience automation live.Today the #SmartAut...   \n",
       "urn:li:share:7067017155375968256    Webinarium 25.05.2023: Ekstremalne ciepło i tr...   \n",
       "urn:li:share:7069655706655674369    Get the Most Out of Digitalization and Sustain...   \n",
       "\n",
       "                                                            text_clean_and_translated  \n",
       "ID                                                                                     \n",
       "urn:li:share:7049687219682299905    2023 the year of and co. will generative ai ch...  \n",
       "urn:li:share:7079078881395167233    smart mechatronix the perfect ready-to-install...  \n",
       "urn:li:share:7054408337148325888    we love oranges so much, we want to extract as...  \n",
       "urn:li:ugcPost:7069950389063667712  inclusion starts with i , global head of hr st...  \n",
       "urn:li:share:7057277321598132224    mediamarktsaturn is taking the next digital st...  \n",
       "...                                                                               ...  \n",
       "urn:li:ugcPost:7069272909654974464  opportunity alert join our social media team a...  \n",
       "urn:li:share:7066306460166549504    exciting option marketing coordinator at bosch...  \n",
       "urn:li:share:7066744349828501504    experience automation live.today the in linz b...  \n",
       "urn:li:share:7067017155375968256    webinar May 25, 2023 extreme heat and difficul...  \n",
       "urn:li:share:7069655706655674369    get the most out of digitalization and sustain...  \n",
       "\n",
       "[4281 rows x 3 columns]"
      ]
     },
     "execution_count": 431,
     "metadata": {},
     "output_type": "execute_result"
    }
   ],
   "source": [
    "df_work"
   ]
  },
  {
   "cell_type": "code",
   "execution_count": 432,
   "id": "01024780-4e7b-4a4e-8740-4965f911268f",
   "metadata": {},
   "outputs": [],
   "source": [
    "df_out = pd.merge(\n",
    "    df,\n",
    "    df_work.reset_index().loc[:, ['ID', 'text_clean_and_translated']],\n",
    "    on = 'ID',\n",
    "    how = 'left'\n",
    ")"
   ]
  },
  {
   "cell_type": "code",
   "execution_count": 433,
   "id": "ec4a11bc-30a4-447f-b812-4953cf3aec65",
   "metadata": {},
   "outputs": [],
   "source": [
    "df_out = df_out.drop(columns=['translated_text'])"
   ]
  },
  {
   "cell_type": "code",
   "execution_count": null,
   "id": "730ce25f-fa07-498f-9c02-22d44e21a66b",
   "metadata": {},
   "outputs": [],
   "source": [
    "df_out.head()"
   ]
  },
  {
   "cell_type": "code",
   "execution_count": 435,
   "id": "fa733841-6d88-4908-8c44-b3fc959c4fbb",
   "metadata": {},
   "outputs": [
    {
     "data": {
      "text/plain": [
       "Index(['Message Text', 'Date', 'Impressions', 'Comments', 'Likes', 'Shares',\n",
       "       'Other Engagements', 'Engagements', 'days_since_posted', 'fanpage_id',\n",
       "       'ID', 'has_any_image', 'hashtags', 'has_any_hashtag', 'dow_posted',\n",
       "       'post_len', 'timestamp_posted', 'hm_posted', 'hour_posted',\n",
       "       'text_clean_and_translated'],\n",
       "      dtype='object')"
      ]
     },
     "execution_count": 435,
     "metadata": {},
     "output_type": "execute_result"
    }
   ],
   "source": [
    "df_out.columns"
   ]
  },
  {
   "cell_type": "code",
   "execution_count": 436,
   "id": "55c721ca-d891-4e1e-8456-f123362bef47",
   "metadata": {},
   "outputs": [
    {
     "data": {
      "text/html": [
       "<div>\n",
       "<style scoped>\n",
       "    .dataframe tbody tr th:only-of-type {\n",
       "        vertical-align: middle;\n",
       "    }\n",
       "\n",
       "    .dataframe tbody tr th {\n",
       "        vertical-align: top;\n",
       "    }\n",
       "\n",
       "    .dataframe thead th {\n",
       "        text-align: right;\n",
       "    }\n",
       "</style>\n",
       "<table border=\"1\" class=\"dataframe\">\n",
       "  <thead>\n",
       "    <tr style=\"text-align: right;\">\n",
       "      <th></th>\n",
       "      <th>Message Text</th>\n",
       "      <th>text_clean_and_translated</th>\n",
       "      <th>ID</th>\n",
       "    </tr>\n",
       "  </thead>\n",
       "  <tbody>\n",
       "    <tr>\n",
       "      <th>60452</th>\n",
       "      <td>#wemoveyouwin</td>\n",
       "      <td>NaN</td>\n",
       "      <td>urn:li:share:7037594009816502273</td>\n",
       "    </tr>\n",
       "    <tr>\n",
       "      <th>62801</th>\n",
       "      <td>💙</td>\n",
       "      <td>NaN</td>\n",
       "      <td>urn:li:share:7022175312142561280</td>\n",
       "    </tr>\n",
       "  </tbody>\n",
       "</table>\n",
       "</div>"
      ],
      "text/plain": [
       "        Message Text text_clean_and_translated  \\\n",
       "60452  #wemoveyouwin                       NaN   \n",
       "62801              💙                       NaN   \n",
       "\n",
       "                                     ID  \n",
       "60452  urn:li:share:7037594009816502273  \n",
       "62801  urn:li:share:7022175312142561280  "
      ]
     },
     "execution_count": 436,
     "metadata": {},
     "output_type": "execute_result"
    }
   ],
   "source": [
    "df_out[df_out['text_clean_and_translated'].isna()].drop_duplicates('ID').loc[:, ['Message Text', 'text_clean_and_translated', 'ID']]"
   ]
  },
  {
   "cell_type": "code",
   "execution_count": 437,
   "id": "3e2736c5-50f1-4c9b-af5b-216d802f6ba6",
   "metadata": {},
   "outputs": [],
   "source": [
    "df_out = df_out[~df_out['text_clean_and_translated'].isna()]"
   ]
  },
  {
   "cell_type": "code",
   "execution_count": null,
   "id": "ceae1d49-0dd8-42b9-83d0-9192146c0ccf",
   "metadata": {},
   "outputs": [],
   "source": [
    "df_out.head()"
   ]
  },
  {
   "cell_type": "code",
   "execution_count": 438,
   "id": "173bd10a-6ec7-4cca-aa8d-11a73053aeee",
   "metadata": {},
   "outputs": [],
   "source": [
    "df_out.to_csv(os.path.join(os.getenv('SAVE_INTERIM_FILES_PATH'), 'data_message_texts_ready_to_topic_modelling.csv'), index=False, encoding='utf-8')"
   ]
  }
 ],
 "metadata": {
  "kernelspec": {
   "display_name": "Python 3 (ipykernel)",
   "language": "python",
   "name": "python3"
  },
  "language_info": {
   "codemirror_mode": {
    "name": "ipython",
    "version": 3
   },
   "file_extension": ".py",
   "mimetype": "text/x-python",
   "name": "python",
   "nbconvert_exporter": "python",
   "pygments_lexer": "ipython3",
   "version": "3.11.4"
  }
 },
 "nbformat": 4,
 "nbformat_minor": 5
}
