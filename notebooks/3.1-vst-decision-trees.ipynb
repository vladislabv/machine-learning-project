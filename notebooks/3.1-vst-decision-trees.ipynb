{
 "cells": [
  {
   "cell_type": "code",
   "execution_count": null,
   "id": "2479b1e8-9b3a-4dc8-bbba-8b26389816d4",
   "metadata": {},
   "outputs": [],
   "source": [
    "import os\n",
    "import re\n",
    "import dotenv\n",
    "import numpy as np\n",
    "from numpy import inf\n",
    "import pandas as pd\n",
    "from pprint import pprint\n",
    "\n",
    "from sklearn import tree\n",
    "from sklearn.metrics import r2_score\n",
    "from sklearn.model_selection import train_test_split\n",
    "\n",
    "import dtreeviz"
   ]
  },
  {
   "cell_type": "code",
   "execution_count": null,
   "id": "ff04ded6-16c3-4848-a508-d77f90f904b1",
   "metadata": {},
   "outputs": [],
   "source": [
    "# Load environment variables\n",
    "project_dir = os.path.join(os.path.abspath(''), os.pardir)\n",
    "dotenv_path = os.path.join(project_dir, '.env')\n",
    "\n",
    "dotenv.load_dotenv(dotenv_path)"
   ]
  },
  {
   "cell_type": "code",
   "execution_count": 1,
   "id": "a84267df-dc20-46d4-ba7a-171c999eccef",
   "metadata": {},
   "outputs": [
    {
     "ename": "NameError",
     "evalue": "name 'pd' is not defined",
     "output_type": "error",
     "traceback": [
      "\u001b[1;31m---------------------------------------------------------------------------\u001b[0m",
      "\u001b[1;31mNameError\u001b[0m                                 Traceback (most recent call last)",
      "Cell \u001b[1;32mIn[1], line 1\u001b[0m\n\u001b[1;32m----> 1\u001b[0m df \u001b[38;5;241m=\u001b[39m \u001b[43mpd\u001b[49m\u001b[38;5;241m.\u001b[39mread_csv(os\u001b[38;5;241m.\u001b[39mpath\u001b[38;5;241m.\u001b[39mjoin(os\u001b[38;5;241m.\u001b[39mgetenv(\u001b[38;5;124m'\u001b[39m\u001b[38;5;124mPROCESSED_DATA_FILES\u001b[39m\u001b[38;5;124m'\u001b[39m), \u001b[38;5;124m'\u001b[39m\u001b[38;5;124mdf_train_test.csv\u001b[39m\u001b[38;5;124m'\u001b[39m), encoding\u001b[38;5;241m=\u001b[39m\u001b[38;5;124m'\u001b[39m\u001b[38;5;124mUTF-8\u001b[39m\u001b[38;5;124m'\u001b[39m)\n",
      "\u001b[1;31mNameError\u001b[0m: name 'pd' is not defined"
     ]
    }
   ],
   "source": [
    "df = pd.read_csv(os.path.join(os.getenv('PROCESSED_DATA_FILES'), 'df_train_test.csv'), encoding='UTF-8')"
   ]
  },
  {
   "cell_type": "code",
   "execution_count": null,
   "id": "f7b7b373-f7d1-4f93-b94d-2d871b8c524c",
   "metadata": {},
   "outputs": [],
   "source": [
    "X = df.loc[:, [\"post_id\", \"log_init_imps\", \"log_init_engs\", \"Dominant_Topic\", \"Keywords\"]]\n",
    "X = X.set_index('post_id')\n",
    "X = pd.concat([X.drop(columns=['Keywords']), X['Keywords'].str.get_dummies(sep=\",\")], axis=1)\n",
    "X = pd.concat([X.drop(columns=['Dominant_Topic']), X['Dominant_Topic'].astype(str).str.get_dummies()], axis=1)\n",
    "#X = pd.concat([df_ready.drop(columns=['Keywords']), df_ready['Keywords'].str.get_dummies(sep=\",\")], axis=1)\n",
    "#X = pd.concat([df_ready.drop(columns=['Dominant_Topic']), df_ready['Dominant_Topic'].str.get_dummies()], axis=1)\n",
    "y = df.loc[:, [\"post_id\", \"log_all_engrate\"]]\n",
    "y = y.set_index('post_id')\n",
    "y = y.squeeze()\n",
    "print(X.head())\n",
    "print(y.head())"
   ]
  },
  {
   "cell_type": "code",
   "execution_count": null,
   "id": "0dafd995-c161-41db-8dd6-b659f27eafa1",
   "metadata": {},
   "outputs": [],
   "source": [
    "X_train, X_test, y_train, y_test = train_test_split(X, y, test_size=0.2, random_state=42, stratify=df.class_weight.values.tolist())"
   ]
  },
  {
   "cell_type": "code",
   "execution_count": null,
   "id": "b39b23e3-0a59-474f-a0cf-740fc3776e05",
   "metadata": {},
   "outputs": [],
   "source": [
    "# fit the regressor\n",
    "reg = tree.DecisionTreeRegressor(max_depth=6, random_state=42)\n",
    "reg.fit(X_train, y_train)\n",
    "# plot the tree\n",
    "viz_model = dtreeviz.model(reg,\n",
    "               X_train=X_train, y_train=y_train,\n",
    "               target_name='log_all_engrate',\n",
    "               feature_names=X_train.columns)\n",
    "v = viz_model.view()     # render as SVG into internal object \n",
    "v.show()"
   ]
  },
  {
   "cell_type": "code",
   "execution_count": null,
   "id": "9659169d-b31c-452b-8bcb-fd272f8669d1",
   "metadata": {},
   "outputs": [],
   "source": [
    "train_score = reg.score(X_train, y_train)\n",
    "test_score = reg.score(X_test, y_test)\n",
    "\n",
    "print(f\"Train R-squared: {train_score:.2f}\")\n",
    "print(f\"Test R-squared: {test_score:.2f}\")"
   ]
  },
  {
   "cell_type": "code",
   "execution_count": null,
   "id": "666bca71-968c-4122-a737-a718aca95400",
   "metadata": {},
   "outputs": [],
   "source": [
    "# scale the predictions back to normal and recalculate R Score\n",
    "# scale back true values (y)\n",
    "y_test_normal = np.exp(y_test)\n",
    "y_train_normal = np.exp(y_train)\n",
    "\n",
    "# get train/test predictions\n",
    "y_train_pred = reg.predict(X_train)\n",
    "y_test_pred = reg.predict(X_test)\n",
    "\n",
    "# scale back predictions\n",
    "y_train_pred_normal = np.exp(y_train_pred)\n",
    "y_test_pred_normal = np.exp(y_test_pred)\n",
    "\n",
    "# Assuming 'y_true' contains the true target values and 'y_pred' contains the predicted values\n",
    "r_squared_train = r2_score(y_train_normal, y_train_pred_normal)\n",
    "r_squared_test = r2_score(y_test_normal, y_test_pred_normal)\n",
    "\n",
    "print(f\"Train (normal) R-squared Score: {r_squared_train:.2f}\")\n",
    "print(f\"Test (normal) R-squared Score: {r_squared_test:.2f}\")"
   ]
  }
 ],
 "metadata": {
  "kernelspec": {
   "display_name": "Python 3 (ipykernel)",
   "language": "python",
   "name": "python3"
  },
  "language_info": {
   "codemirror_mode": {
    "name": "ipython",
    "version": 3
   },
   "file_extension": ".py",
   "mimetype": "text/x-python",
   "name": "python",
   "nbconvert_exporter": "python",
   "pygments_lexer": "ipython3",
   "version": "3.11.4"
  }
 },
 "nbformat": 4,
 "nbformat_minor": 5
}
